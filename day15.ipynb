{
 "cells": [
  {
   "cell_type": "markdown",
   "metadata": {},
   "source": [
    "Part I"
   ]
  },
  {
   "cell_type": "code",
   "execution_count": 35,
   "metadata": {},
   "outputs": [
    {
     "data": {
      "text/plain": [
       "1320"
      ]
     },
     "execution_count": 35,
     "metadata": {},
     "output_type": "execute_result"
    }
   ],
   "source": [
    "with open(R'input/day15test.txt','r') as t:\n",
    "    puzzleInput = t.read().split(\",\")\n",
    "puzzleInput;\n",
    "\n",
    "def part1(input: list)->int:\n",
    "    totalSum = 0\n",
    "    for step in input:\n",
    "        sum = 0\n",
    "        for char in step:\n",
    "            sum += ord(char)\n",
    "            sum *= 17\n",
    "            sum %= 256\n",
    "        totalSum += sum\n",
    "\n",
    "    return totalSum\n",
    "\n",
    "part1(puzzleInput)\n"
   ]
  }
 ],
 "metadata": {
  "kernelspec": {
   "display_name": "Python 3",
   "language": "python",
   "name": "python3"
  },
  "language_info": {
   "codemirror_mode": {
    "name": "ipython",
    "version": 3
   },
   "file_extension": ".py",
   "mimetype": "text/x-python",
   "name": "python",
   "nbconvert_exporter": "python",
   "pygments_lexer": "ipython3",
   "version": "3.11.0"
  }
 },
 "nbformat": 4,
 "nbformat_minor": 2
}

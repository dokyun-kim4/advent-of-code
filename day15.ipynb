{
 "cells": [
  {
   "cell_type": "markdown",
   "metadata": {},
   "source": [
    "Part I"
   ]
  },
  {
   "cell_type": "code",
   "execution_count": 60,
   "metadata": {},
   "outputs": [
    {
     "data": {
      "text/plain": [
       "1320"
      ]
     },
     "execution_count": 60,
     "metadata": {},
     "output_type": "execute_result"
    }
   ],
   "source": [
    "with open(R'input/day15test.txt','r') as t:\n",
    "    puzzleInput = t.read().split(\",\")\n",
    "puzzleInput;\n",
    "\n",
    "def part1(input: list)->int:\n",
    "    totalSum = 0\n",
    "    for step in input:\n",
    "        sum = 0\n",
    "        for char in step:\n",
    "            sum += ord(char)\n",
    "            sum *= 17\n",
    "            sum %= 256\n",
    "        totalSum += sum\n",
    "\n",
    "    return totalSum\n",
    "\n",
    "part1(puzzleInput)\n"
   ]
  },
  {
   "cell_type": "code",
   "execution_count": 90,
   "metadata": {},
   "outputs": [
    {
     "name": "stdout",
     "output_type": "stream",
     "text": [
      "(0, 'rn', '=', '1')\n",
      "added cuz empty\n",
      "[<__main__.Lens object at 0x0000018901A31790>] [] []\n",
      "(0, 'cm', '-', '')\n",
      "[<__main__.Lens object at 0x0000018901A31790>] [] []\n",
      "(1, 'qp', '=', '3')\n",
      "added cuz empty\n",
      "[<__main__.Lens object at 0x0000018901A31790>] [<__main__.Lens object at 0x0000018901A32F50>] []\n",
      "(0, 'cm', '=', '2')\n",
      "added\n",
      "replaced\n",
      "[<__main__.Lens object at 0x0000018901A31790>, <__main__.Lens object at 0x0000018901A33E50>] [<__main__.Lens object at 0x0000018901A32F50>] []\n",
      "(1, 'qp', '-', '')\n",
      "boom\n",
      "[<__main__.Lens object at 0x0000018901A31790>, <__main__.Lens object at 0x0000018901A33E50>] [] []\n",
      "(3, 'pc', '=', '4')\n",
      "added cuz empty\n",
      "[<__main__.Lens object at 0x0000018901A31790>, <__main__.Lens object at 0x0000018901A33E50>] [] [<__main__.Lens object at 0x0000018901A30B10>]\n",
      "(3, 'ot', '=', '9')\n",
      "added\n",
      "replaced\n",
      "[<__main__.Lens object at 0x0000018901A31790>, <__main__.Lens object at 0x0000018901A33E50>] [] [<__main__.Lens object at 0x0000018901A30B10>, <__main__.Lens object at 0x0000018901A315D0>]\n",
      "(3, 'ab', '=', '5')\n",
      "added\n",
      "added\n",
      "replaced\n",
      "replaced\n",
      "[<__main__.Lens object at 0x0000018901A31790>, <__main__.Lens object at 0x0000018901A33E50>] [] [<__main__.Lens object at 0x0000018901A30B10>, <__main__.Lens object at 0x0000018901A315D0>, <__main__.Lens object at 0x0000018901A30410>, <__main__.Lens object at 0x0000018901A30410>]\n",
      "(3, 'pc', '-', '')\n",
      "boom\n",
      "[<__main__.Lens object at 0x0000018901A31790>, <__main__.Lens object at 0x0000018901A33E50>] [] [<__main__.Lens object at 0x0000018901A315D0>, <__main__.Lens object at 0x0000018901A30410>, <__main__.Lens object at 0x0000018901A30410>]\n",
      "(3, 'pc', '=', '6')\n",
      "added\n",
      "added\n",
      "added\n",
      "replaced\n",
      "replaced\n",
      "replaced\n",
      "[<__main__.Lens object at 0x0000018901A31790>, <__main__.Lens object at 0x0000018901A33E50>] [] [<__main__.Lens object at 0x0000018901A315D0>, <__main__.Lens object at 0x0000018901A30410>, <__main__.Lens object at 0x0000018901A30410>, <__main__.Lens object at 0x00000189011EBFD0>, <__main__.Lens object at 0x00000189011EBFD0>, <__main__.Lens object at 0x00000189011EBFD0>]\n",
      "(3, 'ot', '=', '7')\n",
      "replaced\n",
      "added\n",
      "added\n",
      "added\n",
      "added\n",
      "added\n",
      "replaced\n",
      "replaced\n",
      "replaced\n",
      "replaced\n",
      "replaced\n",
      "[<__main__.Lens object at 0x0000018901A31790>, <__main__.Lens object at 0x0000018901A33E50>] [] [<__main__.Lens object at 0x00000189011EB890>, <__main__.Lens object at 0x0000018901A30410>, <__main__.Lens object at 0x0000018901A30410>, <__main__.Lens object at 0x00000189011EBFD0>, <__main__.Lens object at 0x00000189011EBFD0>, <__main__.Lens object at 0x00000189011EBFD0>, <__main__.Lens object at 0x00000189011EB890>, <__main__.Lens object at 0x00000189011EB890>, <__main__.Lens object at 0x00000189011EB890>, <__main__.Lens object at 0x00000189011EB890>, <__main__.Lens object at 0x00000189011EB890>]\n"
     ]
    }
   ],
   "source": [
    "with open(R'input/day15test.txt','r') as t:\n",
    "    puzzleInput = t.read().split(\",\")\n",
    "puzzleInput;\n",
    "\n",
    "class Lens:\n",
    "    def __init__(self, parsedTuple):\n",
    "        self.boxID = parsedTuple[0]\n",
    "        self.label = parsedTuple[1]\n",
    "        self.oper = parsedTuple[2]\n",
    "        self.flen = parsedTuple[3]\n",
    "\n",
    "    def __str__(self):\n",
    "        return f\"{(self.boxID,self.label,self.oper,self.flen)}\"\n",
    "\n",
    "def parse(lens: str)->tuple:\n",
    "    \"\"\"\n",
    "    Given a lens ID, split it into (char,symbol,number).\n",
    "    Ex: rn=1 -> (rn,=,1)\n",
    "    \"\"\"\n",
    "    cut = None\n",
    "    for char in (lens):\n",
    "        if char in [\"=\",\"-\"]:\n",
    "            cut = (lens.index(char))\n",
    "            break\n",
    "    return (getID((lens.split(lens[cut])[0])),(lens.split(lens[cut])[0]), lens[cut], (lens.split(lens[cut])[1]))\n",
    "\n",
    "def getID(id: str)->int:\n",
    "    sum = 0\n",
    "    for char in id:\n",
    "        sum += ord(char)\n",
    "        sum *= 17\n",
    "        sum %= 256\n",
    "    return sum\n",
    "\n",
    "def getFocusPower(boxes: dict)->int:\n",
    "    pass\n",
    "\n",
    "def part2(input: list)->dict:\n",
    "    boxes = {i:[] for i in range(256)}\n",
    "\n",
    "    for step in input:\n",
    "        crntLens = Lens(parse(step))\n",
    "        print(crntLens)\n",
    "        crntBox = boxes[crntLens.boxID]\n",
    "        match crntLens.oper:\n",
    "            case \"-\":\n",
    "                for i,lens in enumerate(crntBox):\n",
    "                    if crntLens.label == lens.label:\n",
    "                        print(\"boom\")\n",
    "                        crntBox.pop(i)\n",
    "            \n",
    "            case \"=\":\n",
    "                if len(crntBox) == 0:\n",
    "                    print('added cuz empty')\n",
    "                    crntBox.append(crntLens)\n",
    "                else:\n",
    "                    for i,lens in enumerate(crntBox):\n",
    "                        if crntLens.label == lens.label:\n",
    "                            print('replaced')\n",
    "                            crntBox[i] = crntLens\n",
    "                        else:\n",
    "                            crntBox.append(crntLens)\n",
    "                            print('added')\n",
    "        print(boxes[0], boxes[1], boxes[3])\n",
    "    return boxes\n",
    "\n",
    "part2(puzzleInput);\n"
   ]
  },
  {
   "cell_type": "code",
   "execution_count": 88,
   "metadata": {},
   "outputs": [
    {
     "name": "stdout",
     "output_type": "stream",
     "text": [
      "{0: [1, 3, 4]}\n"
     ]
    }
   ],
   "source": [
    "a = {0:[1,2,3,4]}\n",
    "crnt = a[0]\n",
    "crnt.pop(1)\n",
    "print(a)"
   ]
  }
 ],
 "metadata": {
  "kernelspec": {
   "display_name": "Python 3",
   "language": "python",
   "name": "python3"
  },
  "language_info": {
   "codemirror_mode": {
    "name": "ipython",
    "version": 3
   },
   "file_extension": ".py",
   "mimetype": "text/x-python",
   "name": "python",
   "nbconvert_exporter": "python",
   "pygments_lexer": "ipython3",
   "version": "3.11.0"
  }
 },
 "nbformat": 4,
 "nbformat_minor": 2
}

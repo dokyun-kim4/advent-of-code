{
 "cells": [
  {
   "cell_type": "markdown",
   "metadata": {},
   "source": [
    "Part I"
   ]
  },
  {
   "cell_type": "code",
   "execution_count": 30,
   "metadata": {},
   "outputs": [
    {
     "data": {
      "text/plain": [
       "1320"
      ]
     },
     "execution_count": 30,
     "metadata": {},
     "output_type": "execute_result"
    }
   ],
   "source": [
    "with open(R'input/day15test.txt','r') as t:\n",
    "    puzzleInput = t.read().split(\",\")\n",
    "puzzleInput;\n",
    "\n",
    "def part1(input: list)->int:\n",
    "    totalSum = 0\n",
    "    for step in input:\n",
    "        sum = 0\n",
    "        for char in step:\n",
    "            sum += ord(char)\n",
    "            sum *= 17\n",
    "            sum %= 256\n",
    "        totalSum += sum\n",
    "\n",
    "    return totalSum\n",
    "\n",
    "part1(puzzleInput)\n"
   ]
  },
  {
   "cell_type": "code",
   "execution_count": 33,
   "metadata": {},
   "outputs": [
    {
     "data": {
      "text/plain": [
       "230462"
      ]
     },
     "execution_count": 33,
     "metadata": {},
     "output_type": "execute_result"
    }
   ],
   "source": [
    "with open(R'input/day15.txt','r') as t:\n",
    "    puzzleInput = t.read().split(\",\")\n",
    "puzzleInput;\n",
    "\n",
    "class Lens:\n",
    "    def __init__(self, parsedTuple):\n",
    "        self.boxID = parsedTuple[0]\n",
    "        self.label = parsedTuple[1]\n",
    "        self.oper = parsedTuple[2]\n",
    "        self.flen = parsedTuple[3]\n",
    "\n",
    "    def __str__(self):\n",
    "        return f\"{(self.boxID,self.label,self.oper,self.flen)}\"\n",
    "    \n",
    "    def __repr__(self) -> str:\n",
    "        return str(self)\n",
    "\n",
    "def parse(lens: str)->tuple:\n",
    "    \"\"\"\n",
    "    Given a lens ID, split it into (char,symbol,number).\n",
    "    Ex: rn=1 -> (rn,=,1)\n",
    "    \"\"\"\n",
    "    cut = None\n",
    "    for char in (lens):\n",
    "        if char in [\"=\",\"-\"]:\n",
    "            cut = (lens.index(char))\n",
    "            break\n",
    "    return (getID((lens.split(lens[cut])[0])),(lens.split(lens[cut])[0]), lens[cut], (lens.split(lens[cut])[1]))\n",
    "\n",
    "def getID(id: str)->int:\n",
    "    sum = 0\n",
    "    for char in id:\n",
    "        sum += ord(char)\n",
    "        sum *= 17\n",
    "        sum %= 256\n",
    "    return sum\n",
    "\n",
    "def getFocusPower(boxes: dict)->int:\n",
    "    total = 0\n",
    "    for boxID in boxes:\n",
    "        crntBox = boxes[boxID]\n",
    "        for i,lens in enumerate(crntBox):\n",
    "            total += ((int(boxID)+1) * (i+1) * int(lens.flen))\n",
    "    return total\n",
    "\n",
    "def part2(input: list)->dict:\n",
    "    boxes = {i:[] for i in range(256)}\n",
    "    for step in input:\n",
    "        crntLens = Lens(parse(step))\n",
    "        crntBox = boxes[crntLens.boxID]\n",
    "        match crntLens.oper:\n",
    "            case \"-\":\n",
    "                for i,lens in enumerate(crntBox):\n",
    "                    if crntLens.label == lens.label:\n",
    "                        crntBox.pop(i)\n",
    "                    \n",
    "            case \"=\":\n",
    "                if len(crntBox) == 0:\n",
    "                    crntBox.append(crntLens)\n",
    "                else:\n",
    "                    replaced = False\n",
    "                    for i,lens in enumerate(crntBox):\n",
    "                        if crntLens.label == lens.label:\n",
    "                            crntBox[i] = crntLens\n",
    "                            replaced = True\n",
    "                            break\n",
    "                    if not replaced:\n",
    "                        crntBox.append(crntLens)\n",
    "    return getFocusPower(boxes)\n",
    "\n",
    "part2(puzzleInput)"
   ]
  }
 ],
 "metadata": {
  "kernelspec": {
   "display_name": "Python 3",
   "language": "python",
   "name": "python3"
  },
  "language_info": {
   "codemirror_mode": {
    "name": "ipython",
    "version": 3
   },
   "file_extension": ".py",
   "mimetype": "text/x-python",
   "name": "python",
   "nbconvert_exporter": "python",
   "pygments_lexer": "ipython3",
   "version": "3.11.0"
  }
 },
 "nbformat": 4,
 "nbformat_minor": 2
}

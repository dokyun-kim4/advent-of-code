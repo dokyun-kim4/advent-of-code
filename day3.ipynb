{
 "cells": [
  {
   "cell_type": "code",
   "execution_count": 35,
   "metadata": {},
   "outputs": [],
   "source": [
    "with open(R'input/day3.txt','r') as t:\n",
    "    input = t.read().splitlines()"
   ]
  },
  {
   "cell_type": "code",
   "execution_count": 36,
   "metadata": {},
   "outputs": [],
   "source": [
    "class gondolaPart1():\n",
    "    def __init__(self,input):\n",
    "        engine = []\n",
    "        for line in input:\n",
    "            row = []\n",
    "            for char in line:\n",
    "                if char.isdigit():\n",
    "                    row.append(char)\n",
    "                else:\n",
    "                    row.append(char)\n",
    "            engine.append(row)\n",
    "        self.engine = engine        \n",
    "    \n",
    "    def getGears(self):\n",
    "        gears = []\n",
    "        for i,row in enumerate(self.engine):\n",
    "            for j,part in enumerate(row):\n",
    "                if not part.isdigit() and part != \".\":\n",
    "                    gears.append((i,j))\n",
    "        return gears\n",
    "    \n",
    "    def getAdjacent(self):\n",
    "        results = []\n",
    "        gears = self.getGears()\n",
    "        for gear in gears:\n",
    "            row = gear[0]\n",
    "            col = gear[1]\n",
    "            adjCoords = [\n",
    "                        (row-1,col-1),\n",
    "                        (row-1,col),\n",
    "                        (row-1,col+1),\n",
    "                        (row,col+1),\n",
    "                        (row+1,col+1),\n",
    "                        (row+1,col),\n",
    "                        (row+1,col-1),\n",
    "                        (row,col-1)\n",
    "                        ]\n",
    "            for coords in adjCoords:\n",
    "                crntRow = self.engine[coords[0]]\n",
    "                if crntRow[coords[1]].isdigit():\n",
    "                    i,j = coords[1]-1,coords[1]+1\n",
    "                    left = \"\"\n",
    "                    right = \"\"\n",
    "                    \n",
    "                    while i >= 0:\n",
    "                        if crntRow[i].isdigit():\n",
    "                            left += crntRow[i]\n",
    "                            self.engine[coords[0]][i] = \".\"\n",
    "                            i-=1\n",
    "                        else:\n",
    "                            break\n",
    "                    \n",
    "                    while j < len(self.engine):\n",
    "                        if crntRow[j].isdigit():\n",
    "                            right += crntRow[j]\n",
    "                            self.engine[coords[0]][j] = \".\"\n",
    "                            j += 1\n",
    "                        else:\n",
    "                            break\n",
    "\n",
    "                    results.append(int(left[::-1]+crntRow[coords[1]]+right))\n",
    "                    self.engine[coords[0]][coords[1]] = \".\"\n",
    "        return results           \n",
    "\n"
   ]
  },
  {
   "cell_type": "code",
   "execution_count": 37,
   "metadata": {},
   "outputs": [
    {
     "data": {
      "text/plain": [
       "519444"
      ]
     },
     "execution_count": 37,
     "metadata": {},
     "output_type": "execute_result"
    }
   ],
   "source": [
    "g = gondolaPart1(input)\n",
    "sum(g.getAdjacent())"
   ]
  },
  {
   "cell_type": "code",
   "execution_count": 38,
   "metadata": {},
   "outputs": [],
   "source": [
    "class gondolaPart2():\n",
    "    def __init__(self,input):\n",
    "        engine = []\n",
    "        for line in input:\n",
    "            row = []\n",
    "            for char in line:\n",
    "                if char.isdigit():\n",
    "                    row.append(char)\n",
    "                else:\n",
    "                    row.append(char)\n",
    "            engine.append(row)\n",
    "        self.engine = engine        \n",
    "    \n",
    "    def getGears(self):\n",
    "        gears = []\n",
    "        for i,row in enumerate(self.engine):\n",
    "            for j,part in enumerate(row):\n",
    "                if part == \"*\":\n",
    "                    gears.append((i,j))\n",
    "        return gears\n",
    "    \n",
    "    def getGearRatio(self):\n",
    "        results = []\n",
    "        gears = self.getGears()\n",
    "        for gear in gears:\n",
    "            parts = []\n",
    "            row = gear[0]\n",
    "            col = gear[1]\n",
    "            adjCoords = [\n",
    "                        (row-1,col-1),\n",
    "                        (row-1,col),\n",
    "                        (row-1,col+1),\n",
    "                        (row,col+1),\n",
    "                        (row+1,col+1),\n",
    "                        (row+1,col),\n",
    "                        (row+1,col-1),\n",
    "                        (row,col-1)\n",
    "                        ]\n",
    "            for coords in adjCoords:\n",
    "                crntRow = self.engine[coords[0]]\n",
    "                if crntRow[coords[1]].isdigit():\n",
    "                    i,j = coords[1]-1,coords[1]+1\n",
    "                    left = \"\"\n",
    "                    right = \"\"\n",
    "                    \n",
    "                    while i >= 0:\n",
    "                        if crntRow[i].isdigit():\n",
    "                            left += crntRow[i]\n",
    "                            self.engine[coords[0]][i] = \".\"\n",
    "                            i-=1\n",
    "                        else:\n",
    "                            break\n",
    "                    \n",
    "                    while j < len(self.engine):\n",
    "                        if crntRow[j].isdigit():\n",
    "                            right += crntRow[j]\n",
    "                            self.engine[coords[0]][j] = \".\"\n",
    "                            j += 1\n",
    "                        else:\n",
    "                            break\n",
    "\n",
    "                    parts.append(int(left[::-1]+crntRow[coords[1]]+right))\n",
    "                    self.engine[coords[0]][coords[1]] = \".\"\n",
    "            if len(parts) == 2:\n",
    "                results.append(parts[0]*parts[1])\n",
    "        return results           \n",
    "\n"
   ]
  },
  {
   "cell_type": "code",
   "execution_count": 39,
   "metadata": {},
   "outputs": [
    {
     "data": {
      "text/plain": [
       "74528807"
      ]
     },
     "execution_count": 39,
     "metadata": {},
     "output_type": "execute_result"
    }
   ],
   "source": [
    "g2 = gondolaPart2(input)\n",
    "sum(g2.getGearRatio())"
   ]
  }
 ],
 "metadata": {
  "kernelspec": {
   "display_name": "Python 3",
   "language": "python",
   "name": "python3"
  },
  "language_info": {
   "codemirror_mode": {
    "name": "ipython",
    "version": 3
   },
   "file_extension": ".py",
   "mimetype": "text/x-python",
   "name": "python",
   "nbconvert_exporter": "python",
   "pygments_lexer": "ipython3",
   "version": "3.11.0"
  }
 },
 "nbformat": 4,
 "nbformat_minor": 2
}

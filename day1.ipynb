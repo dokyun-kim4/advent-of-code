{
 "cells": [
  {
   "cell_type": "code",
   "execution_count": 51,
   "metadata": {},
   "outputs": [],
   "source": [
    "with open(R'input/day1.txt','r') as t:\n",
    "    input = t.read().splitlines()"
   ]
  },
  {
   "cell_type": "code",
   "execution_count": 52,
   "metadata": {},
   "outputs": [],
   "source": [
    "def calibrate(text):\n",
    "    numonly = \"\"\n",
    "    for char in text:\n",
    "    \n",
    "        if char.isdigit():\n",
    "            numonly += char\n",
    "            \n",
    "    code = [\"0\",\"0\"]\n",
    "    code[0] = numonly[0]\n",
    "    code[1] = numonly[-1]\n",
    "\n",
    "    return \"\".join(code)\n"
   ]
  },
  {
   "cell_type": "code",
   "execution_count": 54,
   "metadata": {},
   "outputs": [
    {
     "data": {
      "text/plain": [
       "54644"
      ]
     },
     "execution_count": 54,
     "metadata": {},
     "output_type": "execute_result"
    }
   ],
   "source": [
    "sum = 0\n",
    "for code in input:\n",
    "    sum += int(calibrate(code))\n",
    "sum"
   ]
  },
  {
   "cell_type": "code",
   "execution_count": null,
   "metadata": {},
   "outputs": [],
   "source": [
    "def calibrate2(text):\n",
    "    str2num = {\n",
    "        \"one\":\"1\",\n",
    "        \"two\":\"2\",\n",
    "        \"three\":\"3\",\n",
    "        \"four\":\"4\",\n",
    "        \"five\":\"5\",\n",
    "        \"six\":\"6\",\n",
    "        \"seven\":\"7\",\n",
    "        \"eight\":\"8\",\n",
    "        \"nine\":\"9\"\n",
    "    }\n",
    "\n",
    "    idx2num = {}\n",
    "\n",
    "    for key in str2num:\n",
    "        try:\n",
    "            idxFirst = text.index(key)\n",
    "            idx2num[idxFirst] = str2num[key]\n",
    "        except ValueError:\n",
    "            pass\n",
    "\n",
    "        try:\n",
    "            idxLast = text.rindex(key)\n",
    "            idx2num[idxLast] = str2num[key]\n",
    "        except ValueError:\n",
    "            pass\n",
    "\n",
    "    \n",
    "    for i,char in enumerate(text):\n",
    "        if char.isdigit():\n",
    "            idx2num[i] = text[i]\n",
    "    \n",
    "    num1 = idx2num[sorted(idx2num)[0]]\n",
    "    num2 = idx2num[sorted(idx2num)[-1]]\n",
    "\n",
    "    return num1+num2"
   ]
  },
  {
   "cell_type": "code",
   "execution_count": null,
   "metadata": {},
   "outputs": [
    {
     "data": {
      "text/plain": [
       "53348"
      ]
     },
     "execution_count": 49,
     "metadata": {},
     "output_type": "execute_result"
    }
   ],
   "source": [
    "sum = 0\n",
    "for code in input:\n",
    "    sum += int(calibrate2(code))\n",
    "\n",
    "sum"
   ]
  }
 ],
 "metadata": {
  "kernelspec": {
   "display_name": "Python 3",
   "language": "python",
   "name": "python3"
  },
  "language_info": {
   "codemirror_mode": {
    "name": "ipython",
    "version": 3
   },
   "file_extension": ".py",
   "mimetype": "text/x-python",
   "name": "python",
   "nbconvert_exporter": "python",
   "pygments_lexer": "ipython3",
   "version": "3.11.0"
  }
 },
 "nbformat": 4,
 "nbformat_minor": 2
}

{
 "cells": [
  {
   "cell_type": "code",
   "execution_count": 30,
   "metadata": {},
   "outputs": [],
   "source": [
    "with open(R'input/day8.txt','r') as t:\n",
    "    puzzleInput = t.read().splitlines()\n",
    "puzzleInput;"
   ]
  },
  {
   "cell_type": "markdown",
   "metadata": {},
   "source": [
    "Part I"
   ]
  },
  {
   "cell_type": "code",
   "execution_count": 29,
   "metadata": {},
   "outputs": [
    {
     "data": {
      "text/plain": [
       "18727"
      ]
     },
     "execution_count": 29,
     "metadata": {},
     "output_type": "execute_result"
    }
   ],
   "source": [
    "def part1(input):\n",
    "    directions = input[0]\n",
    "    network = {}\n",
    "    for node in input[2::]:\n",
    "        network[node.split(\" = \")[0]] = (node.split(\" = \")[1].strip(\"()\").split(\", \"))\n",
    "\n",
    "    start = \"AAA\"\n",
    "    i = 0\n",
    "    steps = 0\n",
    "    while start != \"ZZZ\":\n",
    "        direction = directions[i]\n",
    "        if direction == \"R\":\n",
    "            start = network[start][1]\n",
    "            steps += 1\n",
    "        if direction == \"L\":\n",
    "            start = network[start][0]\n",
    "            steps += 1\n",
    "\n",
    "        i += 1\n",
    "        if i == len(directions):\n",
    "            i = 0\n",
    "    return steps\n",
    "\n",
    "part1(puzzleInput)"
   ]
  },
  {
   "cell_type": "markdown",
   "metadata": {},
   "source": [
    "Part II"
   ]
  }
 ],
 "metadata": {
  "kernelspec": {
   "display_name": "Python 3",
   "language": "python",
   "name": "python3"
  },
  "language_info": {
   "codemirror_mode": {
    "name": "ipython",
    "version": 3
   },
   "file_extension": ".py",
   "mimetype": "text/x-python",
   "name": "python",
   "nbconvert_exporter": "python",
   "pygments_lexer": "ipython3",
   "version": "3.10.12"
  }
 },
 "nbformat": 4,
 "nbformat_minor": 2
}

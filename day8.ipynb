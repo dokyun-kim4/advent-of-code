{
 "cells": [
  {
   "cell_type": "code",
   "execution_count": 28,
   "metadata": {},
   "outputs": [],
   "source": [
    "with open(R'input/day8.txt','r') as t:\n",
    "    puzzleInput = t.read().splitlines()\n",
    "puzzleInput;"
   ]
  },
  {
   "cell_type": "markdown",
   "metadata": {},
   "source": [
    "Part I"
   ]
  },
  {
   "cell_type": "code",
   "execution_count": 29,
   "metadata": {},
   "outputs": [
    {
     "data": {
      "text/plain": [
       "18727"
      ]
     },
     "execution_count": 29,
     "metadata": {},
     "output_type": "execute_result"
    }
   ],
   "source": [
    "def part1(input):\n",
    "    directions = input[0]\n",
    "    network = {}\n",
    "    for node in input[2::]:\n",
    "        network[node.split(\" = \")[0]] = (node.split(\" = \")[1].strip(\"()\").split(\", \"))\n",
    "\n",
    "    start = \"AAA\"\n",
    "    i = 0\n",
    "    steps = 0\n",
    "    while start != \"ZZZ\":\n",
    "        direction = directions[i]\n",
    "        if direction == \"R\":\n",
    "            start = network[start][1]\n",
    "            steps += 1\n",
    "        if direction == \"L\":\n",
    "            start = network[start][0]\n",
    "            steps += 1\n",
    "\n",
    "        i += 1\n",
    "        if i == len(directions):\n",
    "            i = 0\n",
    "    return steps\n",
    "\n",
    "part1(puzzleInput)"
   ]
  },
  {
   "cell_type": "markdown",
   "metadata": {},
   "source": [
    "Part II"
   ]
  },
  {
   "cell_type": "code",
   "execution_count": 31,
   "metadata": {},
   "outputs": [],
   "source": [
    "def part2(input):\n",
    "    directions = input[0]\n",
    "    network = {}\n",
    "    for node in input[2::]:\n",
    "        network[node.split(\" = \")[0]] = (node.split(\" = \")[1].strip(\"()\").split(\", \"))\n",
    "    \n",
    "    startNodes = [start for start in network if start[-1] == \"A\"]\n",
    "    steps = 0\n",
    "    i = 0\n",
    "    while not isDone(startNodes):\n",
    "        direction = directions[i]\n",
    "        for j,startNode in enumerate(startNodes):\n",
    "            if direction == \"R\":\n",
    "                startNodes[j] = network[startNode][1]\n",
    "            if direction == \"L\":\n",
    "                startNodes[j] = network[startNode][0]\n",
    "        i += 1\n",
    "        if i == len(directions):\n",
    "            i = 0\n",
    "\n",
    "        steps += 1\n",
    "\n",
    "    return steps\n",
    "\n",
    "def isDone(nodes):\n",
    "    for node in nodes:\n",
    "        if node[-1] != \"Z\":\n",
    "            return False\n",
    "\n",
    "    return True \n",
    "\n",
    "part2(puzzleInput)"
   ]
  },
  {
   "cell_type": "code",
   "execution_count": null,
   "metadata": {},
   "outputs": [
    {
     "data": {
      "text/plain": [
       "False"
      ]
     },
     "execution_count": 17,
     "metadata": {},
     "output_type": "execute_result"
    }
   ],
   "source": [
    "a = ['AAZ','BZA']\n",
    "isDone(a)"
   ]
  }
 ],
 "metadata": {
  "kernelspec": {
   "display_name": "Python 3",
   "language": "python",
   "name": "python3"
  },
  "language_info": {
   "codemirror_mode": {
    "name": "ipython",
    "version": 3
   },
   "file_extension": ".py",
   "mimetype": "text/x-python",
   "name": "python",
   "nbconvert_exporter": "python",
   "pygments_lexer": "ipython3",
   "version": "3.11.0"
  }
 },
 "nbformat": 4,
 "nbformat_minor": 2
}

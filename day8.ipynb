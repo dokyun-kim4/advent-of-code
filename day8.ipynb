{
 "cells": [
  {
   "cell_type": "code",
   "execution_count": 22,
   "metadata": {},
   "outputs": [],
   "source": [
    "with open(R'input/day8.txt','r') as t:\n",
    "    puzzleInput = t.read().splitlines()\n",
    "puzzleInput;"
   ]
  },
  {
   "cell_type": "markdown",
   "metadata": {},
   "source": [
    "Part I"
   ]
  },
  {
   "cell_type": "code",
   "execution_count": 23,
   "metadata": {},
   "outputs": [
    {
     "data": {
      "text/plain": [
       "18727"
      ]
     },
     "execution_count": 23,
     "metadata": {},
     "output_type": "execute_result"
    }
   ],
   "source": [
    "def part1(input):\n",
    "    directions = input[0]\n",
    "    network = {}\n",
    "    for node in input[2::]:\n",
    "        network[node.split(\" = \")[0]] = (node.split(\" = \")[1].strip(\"()\").split(\", \"))\n",
    "\n",
    "    start = \"AAA\"\n",
    "    i = 0\n",
    "    steps = 0\n",
    "    while start != \"ZZZ\":\n",
    "        direction = directions[i]\n",
    "        if direction == \"R\":\n",
    "            start = network[start][1]\n",
    "            steps += 1\n",
    "        if direction == \"L\":\n",
    "            start = network[start][0]\n",
    "            steps += 1\n",
    "\n",
    "        i += 1\n",
    "        if i == len(directions):\n",
    "            i = 0\n",
    "    return steps\n",
    "\n",
    "part1(puzzleInput)"
   ]
  },
  {
   "cell_type": "markdown",
   "metadata": {},
   "source": [
    "Part II"
   ]
  },
  {
   "cell_type": "code",
   "execution_count": 25,
   "metadata": {},
   "outputs": [
    {
     "data": {
      "text/plain": [
       "18024643846273"
      ]
     },
     "execution_count": 25,
     "metadata": {},
     "output_type": "execute_result"
    }
   ],
   "source": [
    "from math import lcm\n",
    "def part2(input):\n",
    "    directions = input[0]\n",
    "    network = {}\n",
    "    for node in input[2::]:\n",
    "        network[node.split(\" = \")[0]] = (node.split(\" = \")[1].strip(\"()\").split(\", \"))\n",
    "    \n",
    "    startNodes = [start for start in network if start[-1] == \"A\"]\n",
    "    all_steps = []\n",
    "    \n",
    "    \n",
    "    for start in startNodes:\n",
    "        steps = 0\n",
    "        i = 0\n",
    "        crntNode = start\n",
    "        while crntNode[-1] != \"Z\":\n",
    "            direction = directions[i]\n",
    "            if direction == \"R\":\n",
    "                crntNode = network[crntNode][1]\n",
    "                steps += 1\n",
    "            if direction == \"L\":\n",
    "                crntNode = network[crntNode][0]\n",
    "                steps += 1\n",
    "            i += 1\n",
    "            if i == len(directions):\n",
    "                i = 0\n",
    "        all_steps.append(steps)\n",
    "\n",
    "    return lcm(*all_steps)\n",
    "\n",
    "part2(puzzleInput)"
   ]
  }
 ],
 "metadata": {
  "kernelspec": {
   "display_name": "Python 3",
   "language": "python",
   "name": "python3"
  },
  "language_info": {
   "codemirror_mode": {
    "name": "ipython",
    "version": 3
   },
   "file_extension": ".py",
   "mimetype": "text/x-python",
   "name": "python",
   "nbconvert_exporter": "python",
   "pygments_lexer": "ipython3",
   "version": "3.11.0"
  }
 },
 "nbformat": 4,
 "nbformat_minor": 2
}

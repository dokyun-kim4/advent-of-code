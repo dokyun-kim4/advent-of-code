{
 "cells": [
  {
   "cell_type": "code",
   "execution_count": 51,
   "metadata": {},
   "outputs": [],
   "source": [
    "with open(R'input/day5.txt','r') as t:\n",
    "    input = t.read()\n",
    "input = input.split(\"\\n\\n\")"
   ]
  },
  {
   "cell_type": "markdown",
   "metadata": {},
   "source": [
    "Part I"
   ]
  },
  {
   "cell_type": "code",
   "execution_count": 56,
   "metadata": {},
   "outputs": [],
   "source": [
    "seeds = input[0].split(\": \")[1].split(\" \")\n",
    "\n",
    "all_maps = {}\n",
    "\n",
    "for lines in input[1:]:\n",
    "    map2num = (lines.split(\":\"))\n",
    "    all_maps[map2num[0]] = map2num[1].split('\\n')\n",
    "\n",
    "\n",
    "def convertWithMap(maps, sourceList):\n",
    "    result = {int(entry):int(entry) for entry in sourceList}\n",
    "\n",
    "    maps = [numSet for numSet in maps if numSet != '']\n",
    "    sourceList = [int(entry) for entry in sourceList]\n",
    "    \n",
    "    for map in maps:\n",
    "        map = [int(num) for num in map.split(\" \")]\n",
    "   \n",
    "        mapRange = (map[2])\n",
    "        source = (map[1],map[1]+(mapRange-1))\n",
    "        destination = (map[0],map[0]+(mapRange-1))\n",
    "\n",
    "        for entry in sourceList:\n",
    "            if entry >= source[0] and entry <= source[1]:\n",
    "                diff = entry - source[0]\n",
    "                result[entry]=(destination[0]+diff)\n",
    "\n",
    "    return [result[key] for key in result]"
   ]
  },
  {
   "cell_type": "code",
   "execution_count": 57,
   "metadata": {},
   "outputs": [
    {
     "name": "stdout",
     "output_type": "stream",
     "text": [
      "51580674\n"
     ]
    }
   ],
   "source": [
    "soil = convertWithMap(all_maps['seed-to-soil map'],seeds)\n",
    "fert = convertWithMap(all_maps['soil-to-fertilizer map'],soil)\n",
    "water = convertWithMap(all_maps['fertilizer-to-water map'],fert)\n",
    "light = convertWithMap(all_maps['water-to-light map'],water)\n",
    "temp = convertWithMap(all_maps['light-to-temperature map'],light)\n",
    "hum = convertWithMap(all_maps['temperature-to-humidity map'],temp)\n",
    "location = convertWithMap(all_maps['humidity-to-location map'],hum)\n",
    "print(min(location))"
   ]
  },
  {
   "cell_type": "markdown",
   "metadata": {},
   "source": [
    "Part II"
   ]
  },
  {
   "cell_type": "code",
   "execution_count": 59,
   "metadata": {},
   "outputs": [],
   "source": [
    "seeds = input[0].split(\": \")[1].split(\" \")\n",
    "\n",
    "all_maps = {}\n",
    "\n",
    "for lines in input[1:]:\n",
    "    map2num = (lines.split(\":\"))\n",
    "    all_maps[map2num[0]] = map2num[1].split('\\n')"
   ]
  },
  {
   "cell_type": "code",
   "execution_count": 62,
   "metadata": {},
   "outputs": [
    {
     "name": "stdout",
     "output_type": "stream",
     "text": [
      "630335678 71155519\n",
      "71155519 260178142\n",
      "260178142 125005421\n",
      "125005421 1548082684\n",
      "1548082684 519777283\n",
      "519777283 4104586697\n",
      "4104586697 30692976\n",
      "30692976 1018893962\n",
      "1018893962 410959790\n",
      "410959790 3570781652\n",
      "3570781652 45062110\n",
      "45062110 74139777\n",
      "74139777 106006724\n",
      "106006724 3262608046\n",
      "3262608046 213460151\n",
      "213460151 3022784256\n",
      "3022784256 121993130\n",
      "121993130 2138898608\n",
      "2138898608 36769984\n"
     ]
    }
   ],
   "source": []
  },
  {
   "cell_type": "code",
   "execution_count": 58,
   "metadata": {},
   "outputs": [
    {
     "name": "stdout",
     "output_type": "stream",
     "text": [
      "51580674\n"
     ]
    }
   ],
   "source": [
    "soil = convertWithMap(all_maps['seed-to-soil map'],seeds)\n",
    "fert = convertWithMap(all_maps['soil-to-fertilizer map'],soil)\n",
    "water = convertWithMap(all_maps['fertilizer-to-water map'],fert)\n",
    "light = convertWithMap(all_maps['water-to-light map'],water)\n",
    "temp = convertWithMap(all_maps['light-to-temperature map'],light)\n",
    "hum = convertWithMap(all_maps['temperature-to-humidity map'],temp)\n",
    "location = convertWithMap(all_maps['humidity-to-location map'],hum)\n",
    "print(min(location))"
   ]
  }
 ],
 "metadata": {
  "kernelspec": {
   "display_name": "Python 3",
   "language": "python",
   "name": "python3"
  },
  "language_info": {
   "codemirror_mode": {
    "name": "ipython",
    "version": 3
   },
   "file_extension": ".py",
   "mimetype": "text/x-python",
   "name": "python",
   "nbconvert_exporter": "python",
   "pygments_lexer": "ipython3",
   "version": "3.11.0"
  }
 },
 "nbformat": 4,
 "nbformat_minor": 2
}

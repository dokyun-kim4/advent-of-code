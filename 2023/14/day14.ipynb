{
 "cells": [
  {
   "cell_type": "markdown",
   "metadata": {},
   "source": [
    "Part I"
   ]
  },
  {
   "cell_type": "code",
   "execution_count": 126,
   "metadata": {},
   "outputs": [
    {
     "data": {
      "text/plain": [
       "105982"
      ]
     },
     "execution_count": 126,
     "metadata": {},
     "output_type": "execute_result"
    }
   ],
   "source": [
    "with open(R'input/day14.txt','r') as t:\n",
    "    puzzleInput = t.read().splitlines()\n",
    "puzzleInput = [list(row) for row in puzzleInput]\n",
    "puzzleInput\n",
    "\n",
    "def tilt(rocks: list)->list:\n",
    "    for i,row in enumerate(rocks):\n",
    "        for j,char in enumerate(row):\n",
    "            if i != 0 and char == \"O\":\n",
    "                # print(f\"rock in {(i,j)}\")\n",
    "                # Roll down until blocked\n",
    "                ii,jj = i,j\n",
    "                charAbove = rocks[ii-1][jj]\n",
    "                while charAbove == '.' and ii >= 1:\n",
    "                    # print(f\"rock go to {(ii-1,jj)}\")\n",
    "                    rocks[ii-1][jj] = \"O\"\n",
    "                    rocks[ii][jj] = '.'\n",
    "                    ii -= 1\n",
    "                    charAbove = rocks[ii-1][jj]\n",
    "            # print(rocks)\n",
    "    return rocks\n",
    "\n",
    "def totalLoad(tilted_rocks: list)->int:\n",
    "    result = sum(1*(len(tilted_rocks)-i) for i,row in enumerate(tilted_rocks) for char in row if char == 'O')\n",
    "    return result\n",
    "\n",
    "totalLoad(tilt(puzzleInput))"
   ]
  },
  {
   "cell_type": "markdown",
   "metadata": {},
   "source": [
    "Part II"
   ]
  },
  {
   "cell_type": "code",
   "execution_count": 127,
   "metadata": {},
   "outputs": [
    {
     "name": "stdout",
     "output_type": "stream",
     "text": [
      "150 116\n"
     ]
    },
    {
     "data": {
      "text/plain": [
       "85175"
      ]
     },
     "execution_count": 127,
     "metadata": {},
     "output_type": "execute_result"
    }
   ],
   "source": [
    "rocks = puzzleInput\n",
    "def tilt()->list:\n",
    "    global rocks\n",
    "    for i,row in enumerate(rocks):\n",
    "        for j,char in enumerate(row):\n",
    "            if i != 0 and char == \"O\":\n",
    "                # Roll down until blocked\n",
    "                ii,jj = i,j\n",
    "                charAbove = rocks[ii-1][jj]\n",
    "                while charAbove == '.' and ii >= 1:\n",
    "                    rocks[ii-1][jj] = \"O\"\n",
    "                    rocks[ii][jj] = '.'\n",
    "                    ii -= 1\n",
    "                    charAbove = rocks[ii-1][jj]\n",
    "    return rocks\n",
    "\n",
    "def cycle()->list:\n",
    "    global rocks\n",
    "    for _ in range(4):\n",
    "        tilt()\n",
    "        rocks = [list(row) for row in list(zip(*rocks[::-1]))]\n",
    "    return rocks\n",
    "\n",
    "seen = {tuple([tuple(row) for row in rocks])}\n",
    "arrangements = [tuple([tuple(row) for row in rocks])]\n",
    "i = 0\n",
    "while True:\n",
    "    i += 1\n",
    "    cycle()\n",
    "    rocksTuple = tuple([tuple(row) for row in rocks])\n",
    "    if rocksTuple in seen:\n",
    "        break\n",
    "    else:\n",
    "        seen.add(rocksTuple)\n",
    "        arrangements.append(rocksTuple)\n",
    "\n",
    "offset = arrangements.index(tuple([tuple(row) for row in rocks]))\n",
    "print(i,offset)\n",
    "\n",
    "totalLoad([list(row) for row in arrangements[(1000000000 - offset) % (i - offset) + offset]])"
   ]
  }
 ],
 "metadata": {
  "kernelspec": {
   "display_name": "Python 3",
   "language": "python",
   "name": "python3"
  },
  "language_info": {
   "codemirror_mode": {
    "name": "ipython",
    "version": 3
   },
   "file_extension": ".py",
   "mimetype": "text/x-python",
   "name": "python",
   "nbconvert_exporter": "python",
   "pygments_lexer": "ipython3",
   "version": "3.11.0"
  }
 },
 "nbformat": 4,
 "nbformat_minor": 2
}

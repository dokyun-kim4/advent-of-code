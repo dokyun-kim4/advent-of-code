{
 "cells": [
  {
   "cell_type": "code",
   "execution_count": 24,
   "metadata": {},
   "outputs": [],
   "source": [
    "with open(\"day10.txt\") as t:\n",
    "    input = t.read().splitlines()"
   ]
  },
  {
   "cell_type": "code",
   "execution_count": 27,
   "metadata": {},
   "outputs": [
    {
     "name": "stdout",
     "output_type": "stream",
     "text": [
      "21 * 20 = 420\n",
      "17 * 60 = 1020\n",
      "21 * 100 = 2100\n",
      "17 * 140 = 2380\n",
      "21 * 180 = 3780\n",
      "37 * 220 = 8140\n",
      "17840\n"
     ]
    }
   ],
   "source": [
    "cycle = 0 \n",
    "x = 1\n",
    "checkAt = [20,60,100,140,180,220]\n",
    "result = 0\n",
    "for cmd in input:\n",
    "    if checkAt == []:\n",
    "        break\n",
    "    if cmd == \"noop\":\n",
    "        cycle += 1\n",
    "    else:\n",
    "        toAdd = int(cmd.split(\" \")[1])\n",
    "        cycle += 2\n",
    "        x += toAdd\n",
    "    \n",
    "    if cycle == checkAt[0] or cycle + 1 ==checkAt[0] or cycle + 2 == checkAt[0]:\n",
    "        print(f\"{x} * {checkAt[0]} = {x*checkAt[0]}\")\n",
    "        result += x*checkAt[0]\n",
    "        checkAt.pop(0)\n",
    "\n",
    "print(result)\n"
   ]
  }
 ],
 "metadata": {
  "kernelspec": {
   "display_name": "Python 3",
   "language": "python",
   "name": "python3"
  },
  "language_info": {
   "codemirror_mode": {
    "name": "ipython",
    "version": 3
   },
   "file_extension": ".py",
   "mimetype": "text/x-python",
   "name": "python",
   "nbconvert_exporter": "python",
   "pygments_lexer": "ipython3",
   "version": "3.11.0"
  }
 },
 "nbformat": 4,
 "nbformat_minor": 2
}

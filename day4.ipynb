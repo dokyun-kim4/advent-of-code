{
 "cells": [
  {
   "cell_type": "code",
   "execution_count": 86,
   "metadata": {},
   "outputs": [],
   "source": [
    "with open(R'input/day4.txt','r') as t:\n",
    "    input = t.read().splitlines()"
   ]
  },
  {
   "cell_type": "code",
   "execution_count": 87,
   "metadata": {},
   "outputs": [],
   "source": [
    "def part1(text):\n",
    "    points = 0\n",
    "    winning = text.split(\": \")[1].split(\" | \")[0].split(\" \")\n",
    "    scratch = text.split(\": \")[1].split(\" | \")[1].split(\" \")\n",
    "\n",
    "    for entry in scratch:\n",
    "        if entry.isdigit():\n",
    "            if entry in winning:\n",
    "                if points == 0:\n",
    "                    points += 1\n",
    "                else:\n",
    "                    points *= 2\n",
    "    return points"
   ]
  },
  {
   "cell_type": "code",
   "execution_count": 88,
   "metadata": {},
   "outputs": [
    {
     "data": {
      "text/plain": [
       "28750"
      ]
     },
     "execution_count": 88,
     "metadata": {},
     "output_type": "execute_result"
    }
   ],
   "source": [
    "sum = 0\n",
    "for txt in input:\n",
    "    sum += part1(txt)\n",
    "sum"
   ]
  },
  {
   "cell_type": "code",
   "execution_count": 93,
   "metadata": {},
   "outputs": [],
   "source": [
    "def part2(input: list):\n",
    "    cards = {i+1:1 for i in range(len(input))}\n",
    "    \n",
    "\n",
    "    for i,card in enumerate(input):\n",
    "        winning = card.split(\": \")[1].split(\" | \")[0].split(\" \")\n",
    "        scratch = card.split(\": \")[1].split(\" | \")[1].split(\" \")\n",
    "\n",
    "        copyCount = 0\n",
    "\n",
    "        for entry in scratch:\n",
    "            if entry.isdigit():\n",
    "                if entry in winning:\n",
    "                    copyCount += 1\n",
    "        cardCount = cards[i+1]\n",
    "        for j in range(copyCount):\n",
    "            cards[i+j+2] += 1*cardCount\n",
    "\n",
    "    total = 0\n",
    "    for key in cards:\n",
    "        total += cards[key]\n",
    "    \n",
    "    return total"
   ]
  },
  {
   "cell_type": "code",
   "execution_count": 94,
   "metadata": {},
   "outputs": [
    {
     "data": {
      "text/plain": [
       "10212704"
      ]
     },
     "execution_count": 94,
     "metadata": {},
     "output_type": "execute_result"
    }
   ],
   "source": [
    "part2(input)"
   ]
  }
 ],
 "metadata": {
  "kernelspec": {
   "display_name": "Python 3",
   "language": "python",
   "name": "python3"
  },
  "language_info": {
   "codemirror_mode": {
    "name": "ipython",
    "version": 3
   },
   "file_extension": ".py",
   "mimetype": "text/x-python",
   "name": "python",
   "nbconvert_exporter": "python",
   "pygments_lexer": "ipython3",
   "version": "3.11.0"
  }
 },
 "nbformat": 4,
 "nbformat_minor": 2
}

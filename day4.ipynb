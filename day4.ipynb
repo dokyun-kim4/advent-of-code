{
 "cells": [
  {
   "cell_type": "code",
   "execution_count": 2,
   "metadata": {},
   "outputs": [],
   "source": [
    "with open(R'input/day4.txt','r') as t:\n",
    "    input = t.read().splitlines()"
   ]
  },
  {
   "cell_type": "code",
   "execution_count": 48,
   "metadata": {},
   "outputs": [],
   "source": [
    "def part1(text):\n",
    "    points = 0\n",
    "    winning = text.split(\": \")[1].split(\" | \")[0].split(\" \")\n",
    "    scratch = text.split(\": \")[1].split(\" | \")[1].split(\" \")\n",
    "\n",
    "    for entry in scratch:\n",
    "        if entry.isdigit():\n",
    "            if entry in winning:\n",
    "                if points == 0:\n",
    "                    points += 1\n",
    "                else:\n",
    "                    points *= 2\n",
    "    return points"
   ]
  },
  {
   "cell_type": "code",
   "execution_count": 49,
   "metadata": {},
   "outputs": [
    {
     "data": {
      "text/plain": [
       "28750"
      ]
     },
     "execution_count": 49,
     "metadata": {},
     "output_type": "execute_result"
    }
   ],
   "source": [
    "sum = 0\n",
    "for txt in input:\n",
    "    sum += part1(txt)\n",
    "sum"
   ]
  },
  {
   "cell_type": "code",
   "execution_count": 51,
   "metadata": {},
   "outputs": [
    {
     "ename": "SyntaxError",
     "evalue": "incomplete input (3339179711.py, line 4)",
     "output_type": "error",
     "traceback": [
      "\u001b[1;36m  Cell \u001b[1;32mIn[51], line 4\u001b[1;36m\u001b[0m\n\u001b[1;33m    for card in input:\u001b[0m\n\u001b[1;37m                      ^\u001b[0m\n\u001b[1;31mSyntaxError\u001b[0m\u001b[1;31m:\u001b[0m incomplete input\n"
     ]
    }
   ],
   "source": [
    "def part2(input: list):\n",
    "    cards = {}\n",
    "\n",
    "    for card in input:\n",
    "            winning = text.split(\": \")[1].split(\" | \")[0].split(\" \")\n",
    "    scratch = text.split(\": \")[1].split(\" | \")[1].split(\" \")"
   ]
  }
 ],
 "metadata": {
  "kernelspec": {
   "display_name": "Python 3",
   "language": "python",
   "name": "python3"
  },
  "language_info": {
   "codemirror_mode": {
    "name": "ipython",
    "version": 3
   },
   "file_extension": ".py",
   "mimetype": "text/x-python",
   "name": "python",
   "nbconvert_exporter": "python",
   "pygments_lexer": "ipython3",
   "version": "3.11.0"
  }
 },
 "nbformat": 4,
 "nbformat_minor": 2
}

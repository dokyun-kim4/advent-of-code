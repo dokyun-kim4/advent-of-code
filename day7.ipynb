{
 "cells": [
  {
   "cell_type": "code",
   "execution_count": 16,
   "metadata": {},
   "outputs": [],
   "source": [
    "with open(R'input/day7test.txt','r') as t:\n",
    "    input = t.read().splitlines()\n",
    "allHands = {}\n",
    "for entry in input:\n",
    "    allHands[entry.split(\" \")[0]] = int(entry.split(\" \")[1])"
   ]
  },
  {
   "cell_type": "code",
   "execution_count": 17,
   "metadata": {},
   "outputs": [],
   "source": [
    "def rankHand(hand: str)->int:\n",
    "    cardCount = {}\n",
    "    for card in hand:\n",
    "        if card in cardCount:\n",
    "            cardCount[card]+=1\n",
    "        else:\n",
    "            cardCount[card] = 1\n",
    "    # print(cardCount)\n",
    "    uniqueCount = len(cardCount)\n",
    "    if uniqueCount == 5:\n",
    "        return 1\n",
    "    if uniqueCount == 4:\n",
    "        return 2\n",
    "    if uniqueCount == 3:\n",
    "        if 2 in cardCount.values():\n",
    "            return 3\n",
    "        else:\n",
    "            return 4\n",
    "    if uniqueCount == 2:\n",
    "        return 5\n",
    "    if uniqueCount == 1:\n",
    "        return 6\n",
    "\n",
    "def compareCard(card1,card2):\n",
    "    valueMap = {\"T\":10,\n",
    "                \"J\":11,\n",
    "                \"Q\":12,\n",
    "                \"K\":13,\n",
    "                \"A\":14\n",
    "                }\n",
    "    card1Rank = rankHand(card1)\n",
    "    card2Rank = rankHand(card2)\n",
    "\n",
    "    if card1Rank > card2Rank:\n",
    "        return 1\n",
    "    elif card1Rank < card2Rank:\n",
    "        return -1\n",
    "    else:\n",
    "        for i in range(5):\n",
    "            crntCard1,crntCard2 = None,None\n",
    "            if card1[i].isdigit():\n",
    "                crntCard1 = int(card1[i])\n",
    "            else:\n",
    "                crntCard1 = valueMap[card1[i]]\n",
    "\n",
    "            if card2[i].isdigit():\n",
    "                crntCard2 = int(card2[i])\n",
    "            else:\n",
    "                crntCard2 = valueMap[card2[i]]\n",
    "            \n",
    "            if crntCard1 > crntCard2:\n",
    "                return 1\n",
    "            elif crntCard1 < crntCard2:\n",
    "                return -1\n",
    "            else:\n",
    "                continue"
   ]
  },
  {
   "cell_type": "code",
   "execution_count": 18,
   "metadata": {},
   "outputs": [
    {
     "data": {
      "text/plain": [
       "['32T3K', 'KTJJT', 'KK677', 'T55J5', 'QQQJA']"
      ]
     },
     "execution_count": 18,
     "metadata": {},
     "output_type": "execute_result"
    }
   ],
   "source": [
    "from functools import cmp_to_key\n",
    "sorted(allHands,key = cmp_to_key(lambda card1,card2: compareCard(card1,card2)))"
   ]
  }
 ],
 "metadata": {
  "kernelspec": {
   "display_name": "Python 3",
   "language": "python",
   "name": "python3"
  },
  "language_info": {
   "codemirror_mode": {
    "name": "ipython",
    "version": 3
   },
   "file_extension": ".py",
   "mimetype": "text/x-python",
   "name": "python",
   "nbconvert_exporter": "python",
   "pygments_lexer": "ipython3",
   "version": "3.11.0"
  }
 },
 "nbformat": 4,
 "nbformat_minor": 2
}

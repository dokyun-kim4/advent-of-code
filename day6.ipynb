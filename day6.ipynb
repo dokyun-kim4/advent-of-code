{
 "cells": [
  {
   "cell_type": "code",
   "execution_count": 40,
   "metadata": {},
   "outputs": [],
   "source": [
    "with open(R'input/day6.txt','r') as t:\n",
    "    input = t.read()"
   ]
  },
  {
   "cell_type": "code",
   "execution_count": 41,
   "metadata": {},
   "outputs": [],
   "source": [
    "def part1(input):\n",
    "    total = 1\n",
    "    time = [int(num) for num in input.split(\"\\n\")[0].split(\":\")[1].split(\" \") if num.isdigit()]\n",
    "    dist = [int(num) for num in input.split(\"\\n\")[1].split(\":\")[1].split(\" \") if num.isdigit()]\n",
    "    for i in range(len(time)):\n",
    "        total *= waysToWin(time[i],dist[i])\n",
    "    return total\n",
    "\n",
    "\n",
    "def waysToWin(time,dist):\n",
    "    ways = 0\n",
    "    for pressTime in range(time):\n",
    "        distTraveled = (time-pressTime)*pressTime\n",
    "        if distTraveled > dist:\n",
    "            ways += 1\n",
    "    \n",
    "    return ways"
   ]
  },
  {
   "cell_type": "code",
   "execution_count": 42,
   "metadata": {},
   "outputs": [
    {
     "data": {
      "text/plain": [
       "1108800"
      ]
     },
     "execution_count": 42,
     "metadata": {},
     "output_type": "execute_result"
    }
   ],
   "source": [
    "part1(input)"
   ]
  },
  {
   "cell_type": "markdown",
   "metadata": {},
   "source": [
    "Part II"
   ]
  },
  {
   "cell_type": "code",
   "execution_count": 44,
   "metadata": {},
   "outputs": [
    {
     "data": {
      "text/plain": [
       "36919753"
      ]
     },
     "execution_count": 44,
     "metadata": {},
     "output_type": "execute_result"
    }
   ],
   "source": [
    "waysToWin(46857582,208141212571410)"
   ]
  }
 ],
 "metadata": {
  "kernelspec": {
   "display_name": "Python 3",
   "language": "python",
   "name": "python3"
  },
  "language_info": {
   "codemirror_mode": {
    "name": "ipython",
    "version": 3
   },
   "file_extension": ".py",
   "mimetype": "text/x-python",
   "name": "python",
   "nbconvert_exporter": "python",
   "pygments_lexer": "ipython3",
   "version": "3.11.0"
  }
 },
 "nbformat": 4,
 "nbformat_minor": 2
}

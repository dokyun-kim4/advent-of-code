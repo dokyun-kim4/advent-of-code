{
 "cells": [
  {
   "cell_type": "code",
   "execution_count": 1,
   "metadata": {},
   "outputs": [],
   "source": [
    "with open(R'input/day2.txt','r') as t:\n",
    "    input = t.read().splitlines()"
   ]
  },
  {
   "cell_type": "code",
   "execution_count": 43,
   "metadata": {},
   "outputs": [],
   "source": [
    "def part1(text: str):\n",
    "    \"\"\"\n",
    "    Given one game, return id if possible, 0 if not possible\n",
    "    \"\"\"\n",
    "    valid = True\n",
    "    rule = {\n",
    "        \"red\":12,\n",
    "        \"green\":13,\n",
    "        \"blue\":14\n",
    "    }\n",
    "\n",
    "    id, cubes = text.split(\": \")[0].split(\" \")[-1], text.split(\": \")[1]\n",
    "\n",
    "    allSets = cubes.split(\"; \") #list\n",
    "\n",
    "    for singleSet in allSets:\n",
    "        colorCounts = singleSet.split(\", \")\n",
    "        for colorCount in colorCounts:\n",
    "            count,color = int(colorCount.split(\" \")[0]), colorCount.split(\" \")[1]\n",
    "            if count > rule[color]:\n",
    "                valid = False\n",
    "\n",
    "    if valid:\n",
    "        return int(id)\n",
    "    else:\n",
    "        return 0\n"
   ]
  },
  {
   "cell_type": "code",
   "execution_count": 44,
   "metadata": {},
   "outputs": [
    {
     "data": {
      "text/plain": [
       "2512"
      ]
     },
     "execution_count": 44,
     "metadata": {},
     "output_type": "execute_result"
    }
   ],
   "source": [
    "sum = 0\n",
    "for txt in input:\n",
    "    sum += part1(txt)\n",
    "\n",
    "sum"
   ]
  },
  {
   "cell_type": "code",
   "execution_count": 54,
   "metadata": {},
   "outputs": [],
   "source": [
    "def part2(text: str):\n",
    "    \"\"\"\n",
    "    Given one game, return its power\n",
    "    \"\"\"\n",
    "\n",
    "    minimums = {\n",
    "        \"red\": 0 ,\n",
    "        \"green\":0,\n",
    "        \"blue\":0\n",
    "    }\n",
    "\n",
    "    _, cubes = text.split(\": \")[0].split(\" \")[-1], text.split(\": \")[1]\n",
    "\n",
    "    allSets = cubes.split(\"; \") \n",
    "\n",
    "    for singleSet in allSets:\n",
    "        colorCounts = singleSet.split(\", \")\n",
    "        for colorCount in colorCounts:\n",
    "            count,color = int(colorCount.split(\" \")[0]), colorCount.split(\" \")[1]\n",
    "            if minimums[color] < count:\n",
    "                minimums[color] = count\n",
    "\n",
    "\n",
    "    power = minimums['red']*minimums['green']*minimums['blue']\n",
    "    return power"
   ]
  },
  {
   "cell_type": "code",
   "execution_count": 50,
   "metadata": {},
   "outputs": [
    {
     "data": {
      "text/plain": [
       "67335"
      ]
     },
     "execution_count": 50,
     "metadata": {},
     "output_type": "execute_result"
    }
   ],
   "source": [
    "sum = 0\n",
    "for txt in input:\n",
    "    sum += part2(txt)\n",
    "sum"
   ]
  }
 ],
 "metadata": {
  "kernelspec": {
   "display_name": "Python 3",
   "language": "python",
   "name": "python3"
  },
  "language_info": {
   "codemirror_mode": {
    "name": "ipython",
    "version": 3
   },
   "file_extension": ".py",
   "mimetype": "text/x-python",
   "name": "python",
   "nbconvert_exporter": "python",
   "pygments_lexer": "ipython3",
   "version": "3.11.0"
  }
 },
 "nbformat": 4,
 "nbformat_minor": 2
}

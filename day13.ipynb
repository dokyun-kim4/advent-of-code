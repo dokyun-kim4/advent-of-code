{
 "cells": [
  {
   "cell_type": "markdown",
   "metadata": {},
   "source": [
    "Part I"
   ]
  },
  {
   "cell_type": "code",
   "execution_count": 218,
   "metadata": {},
   "outputs": [
    {
     "name": "stdout",
     "output_type": "stream",
     "text": [
      "36448\n"
     ]
    }
   ],
   "source": [
    "with open(R'input/day13.txt','r') as t:\n",
    "    puzzleInput = t.read().split(\"\\n\\n\")\n",
    "puzzleInput = [block.splitlines() for block in puzzleInput]\n",
    "puzzleInput\n",
    "\n",
    "def findMirror(block: list) -> int:\n",
    "    for i in range(1,len(block)):\n",
    "        top = block[:i][::-1]\n",
    "        bot = block[i:]\n",
    "        cut = min(len(top),len(bot))\n",
    "        top = top[0:cut]\n",
    "        bot = bot[0:cut]\n",
    "        if top == bot:\n",
    "            return i\n",
    "    return 0\n",
    "\n",
    "sum = 0\n",
    "for block in puzzleInput:\n",
    "    sum += findMirror(block)*100 + findMirror(list(zip(*block)))\n",
    "    \n",
    "print(sum)\n"
   ]
  },
  {
   "cell_type": "markdown",
   "metadata": {},
   "source": [
    "Part II"
   ]
  },
  {
   "cell_type": "code",
   "execution_count": 226,
   "metadata": {},
   "outputs": [
    {
     "name": "stdout",
     "output_type": "stream",
     "text": [
      "35799\n"
     ]
    }
   ],
   "source": [
    "with open(R'input/day13.txt','r') as t:\n",
    "    puzzleInput = t.read().split(\"\\n\\n\")\n",
    "puzzleInput = [block.splitlines() for block in puzzleInput]\n",
    "puzzleInput\n",
    "\n",
    "def findMirror(block: list) -> int:\n",
    "    for i in range(1,len(block)):\n",
    "        top = block[:i][::-1]\n",
    "        bot = block[i:]\n",
    "        cut = min(len(top),len(bot))\n",
    "        top = top[0:cut]\n",
    "        bot = bot[0:cut]\n",
    "        mismatch = 0\n",
    "        for row1, row2 in zip(top,bot):\n",
    "            for char1, char2 in zip(row1,row2):\n",
    "                if char1 != char2:\n",
    "                    mismatch += 1\n",
    "        if mismatch == 1:\n",
    "            return i\n",
    "    return 0\n",
    "\n",
    "sum = 0\n",
    "for block in puzzleInput:\n",
    "    sum += findMirror(block)*100 + findMirror(list(zip(*block)))\n",
    "    \n",
    "print(sum)"
   ]
  },
  {
   "cell_type": "code",
   "execution_count": 225,
   "metadata": {},
   "outputs": [
    {
     "name": "stdout",
     "output_type": "stream",
     "text": [
      "asdaf dhalf\n",
      "a d\n",
      "s h\n",
      "d a\n",
      "a l\n",
      "f f\n",
      "abfhg alskh\n",
      "a a\n",
      "b l\n",
      "f s\n",
      "h k\n",
      "g h\n"
     ]
    }
   ],
   "source": [
    "for i,j in zip([\"asdaf\",\"abfhg\"],[\"dhalf\",\"alskh\"]):\n",
    "    print(i,j)\n",
    "    for a,b in zip(i,j):\n",
    "        print(a,b)"
   ]
  }
 ],
 "metadata": {
  "kernelspec": {
   "display_name": "Python 3",
   "language": "python",
   "name": "python3"
  },
  "language_info": {
   "codemirror_mode": {
    "name": "ipython",
    "version": 3
   },
   "file_extension": ".py",
   "mimetype": "text/x-python",
   "name": "python",
   "nbconvert_exporter": "python",
   "pygments_lexer": "ipython3",
   "version": "3.11.0"
  }
 },
 "nbformat": 4,
 "nbformat_minor": 2
}

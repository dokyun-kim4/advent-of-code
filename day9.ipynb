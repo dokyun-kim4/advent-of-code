{
 "cells": [
  {
   "cell_type": "code",
   "execution_count": 8,
   "metadata": {},
   "outputs": [],
   "source": [
    "with open(R'input/day9.txt','r') as t:\n",
    "    puzzleInput = t.read().splitlines()\n",
    "puzzleInput = [history.split(\" \") for history in puzzleInput]\n",
    "puzzleInput;"
   ]
  },
  {
   "cell_type": "code",
   "execution_count": 12,
   "metadata": {},
   "outputs": [
    {
     "name": "stdout",
     "output_type": "stream",
     "text": [
      "part 1: 1877825184\n",
      "part 2: 1108\n"
     ]
    }
   ],
   "source": [
    "def day9(input):\n",
    "    part1 = 0\n",
    "    part2 = 0\n",
    "    for history in input:\n",
    "        history = [int(num) for num in history]\n",
    "        part1 += extrapolateRight(history)\n",
    "        part2 += extrapolateLeft(history)\n",
    "    return part1,part2\n",
    "\n",
    "# Part 1\n",
    "def extrapolateRight(history):\n",
    "    if all(num==0 for num in history):\n",
    "        return 0\n",
    "    else:\n",
    "        nextStep = [history[i+1]-history[i] for i in range(len(history)-1)]\n",
    "        return history[-1]+extrapolateRight(nextStep)\n",
    "\n",
    "# Part 2\n",
    "def extrapolateLeft(history):\n",
    "    if all(num==0 for num in history):\n",
    "        return 0\n",
    "    else:\n",
    "        nextStep = [history[i+1]-history[i] for i in range(len(history)-1)]\n",
    "        return history[0]-extrapolateLeft(nextStep)\n",
    "\n",
    "p1,p2 = day9(puzzleInput)\n",
    "print(f\"Part 1: {p1}\")\n",
    "print(f\"Part 2: {p2}\")"
   ]
  }
 ],
 "metadata": {
  "kernelspec": {
   "display_name": "Python 3",
   "language": "python",
   "name": "python3"
  },
  "language_info": {
   "codemirror_mode": {
    "name": "ipython",
    "version": 3
   },
   "file_extension": ".py",
   "mimetype": "text/x-python",
   "name": "python",
   "nbconvert_exporter": "python",
   "pygments_lexer": "ipython3",
   "version": "3.10.12"
  }
 },
 "nbformat": 4,
 "nbformat_minor": 2
}

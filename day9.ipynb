{
 "cells": [
  {
   "cell_type": "code",
   "execution_count": 17,
   "metadata": {},
   "outputs": [],
   "source": [
    "with open(R'input/day9.txt','r') as t:\n",
    "    puzzleInput = t.read().splitlines()\n",
    "puzzleInput = [history.split(\" \") for history in puzzleInput]\n",
    "puzzleInput;"
   ]
  },
  {
   "cell_type": "code",
   "execution_count": 18,
   "metadata": {},
   "outputs": [
    {
     "data": {
      "text/plain": [
       "1877825184"
      ]
     },
     "execution_count": 18,
     "metadata": {},
     "output_type": "execute_result"
    }
   ],
   "source": [
    "def part1(input):\n",
    "    sum = 0\n",
    "    for history in input:\n",
    "        crntHistory = [int(num) for num in history]\n",
    "        extrapolater = 0\n",
    "        while not all(num==crntHistory[0] for num in crntHistory):\n",
    "            diff = [crntHistory[i+1]-crntHistory[i] for i in range(len(crntHistory)-1)]\n",
    "            extrapolater += diff[-1]\n",
    "            crntHistory = diff\n",
    "\n",
    "        sum += (int(history[-1])+extrapolater)\n",
    "    return sum\n",
    "\n",
    "part1(puzzleInput)"
   ]
  },
  {
   "cell_type": "code",
   "execution_count": null,
   "metadata": {},
   "outputs": [],
   "source": []
  }
 ],
 "metadata": {
  "kernelspec": {
   "display_name": "Python 3",
   "language": "python",
   "name": "python3"
  },
  "language_info": {
   "codemirror_mode": {
    "name": "ipython",
    "version": 3
   },
   "file_extension": ".py",
   "mimetype": "text/x-python",
   "name": "python",
   "nbconvert_exporter": "python",
   "pygments_lexer": "ipython3",
   "version": "3.10.12"
  }
 },
 "nbformat": 4,
 "nbformat_minor": 2
}
